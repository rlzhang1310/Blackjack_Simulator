{
 "cells": [
  {
   "cell_type": "code",
   "execution_count": null,
   "metadata": {},
   "outputs": [],
   "source": [
    "from deck import BlackjackShoe\n",
    "from dealer import Dealer\n",
    "from round import BlackjackRound\n",
    "from hand import Hand\n",
    "from game import Game, BLACKJACKSIXTOFIVEPAYOUT, BLACKJACKTHREETOTWOPAYOUT\n",
    "from strategies.strategy import StrategyTable\n",
    "import seaborn as sns\n",
    "import numpy as np\n",
    "import matplotlib.pyplot as plt\n"
   ]
  },
  {
   "cell_type": "code",
   "execution_count": null,
   "metadata": {},
   "outputs": [],
   "source": [
    "rounds = []\n",
    "rounds_count_dict = {}\n",
    "games = []\n",
    "num_players = 1\n",
    "num_games = 1\n",
    "bet_size = 100\n",
    "num_rounds = 10000000\n",
    "for _ in range(num_games):\n",
    "    game = Game(2, num_players=num_players, strategy=StrategyTable[\"MULTIDECK\"], hit_on_soft_17=True, blackjack_payout=BLACKJACKSIXTOFIVEPAYOUT, min_bet=bet_size, denominations=100, player_bankroll=0, resplit_till=4)\n",
    "    round_data, round_count_data = game.play(num_rounds, print_cards=False, print_round_results=False)\n",
    "    rounds.extend(round_data)\n",
    "    rounds_count_dict = round_count_data\n",
    "    games.append(game.house_bankroll)\n",
    "\n",
    "profit_sum = 0\n",
    "wins = 0\n",
    "losses = 0\n",
    "pushes = 0\n",
    "for g in rounds:\n",
    "    # print(rounds_count)\n",
    "    if g > 0:\n",
    "        wins += 1\n",
    "    elif g < 0:\n",
    "        losses += 1\n",
    "    else:\n",
    "        pushes += 1\n",
    "    profit_sum += g\n",
    "print(profit_sum)\n",
    "\n",
    "print(profit_sum / num_players / num_games / num_rounds)\n",
    "print(f\"Wins: {wins / num_rounds}, Losses: {losses / num_rounds}, Pushes: {pushes / num_rounds}\")\n",
    "print()"
   ]
  },
  {
   "cell_type": "code",
   "execution_count": null,
   "metadata": {},
   "outputs": [],
   "source": [
    "rounds_count_edge_dict = {}\n",
    "for count, round_profits in rounds_count_dict.items():\n",
    "    num_rounds = len(round_profits)\n",
    "    num_players = 1\n",
    "    num_games = 1\n",
    "    profits = sum(round_profits)\n",
    "    rounds_count_edge_dict[(count, num_rounds)] = profits / num_rounds / num_players / num_games\n",
    "\n",
    "for count, edge in sorted(rounds_count_edge_dict.items()):\n",
    "    print(f\"Count: {count}, Edge: {edge}\")"
   ]
  },
  {
   "cell_type": "code",
   "execution_count": null,
   "metadata": {},
   "outputs": [],
   "source": [
    "plt.hist(rounds, bins=20, facecolor=\"blue\", alpha=0.5)\n",
    "\n",
    "plt.show()"
   ]
  },
  {
   "cell_type": "code",
   "execution_count": null,
   "metadata": {},
   "outputs": [],
   "source": [
    "plt.hist(games, bins=20, facecolor=\"blue\", alpha=0.5)\n",
    "# sns.kdeplot(games)\n",
    "\n",
    "plt.show()"
   ]
  },
  {
   "cell_type": "code",
   "execution_count": null,
   "metadata": {},
   "outputs": [],
   "source": [
    "import numpy as np\n",
    "import matplotlib.pyplot as plt\n",
    "\n",
    "# Convert house bankroll changes (games list) into profits per game\n",
    "house_profits = np.array(games)  # Assuming games stores house profit for each game\n",
    "\n",
    "# Calculate statistics\n",
    "mean_house_profit = np.mean(house_profits)\n",
    "ci_lower = np.percentile(house_profits, 2.5)\n",
    "ci_upper = np.percentile(house_profits, 97.5)\n",
    "\n",
    "# Plot histogram of actual house profits\n",
    "plt.figure(figsize=(10, 6))\n",
    "plt.hist(house_profits, bins=50, edgecolor='black', alpha=0.7)\n",
    "plt.axvline(mean_house_profit, color='red', linestyle='dashed', linewidth=2, label=f'Mean: ${mean_house_profit:,.2f}')\n",
    "plt.axvline(ci_lower, color='green', linestyle='dashed', linewidth=2, label=f'95% CI Lower: ${ci_lower:,.2f}')\n",
    "plt.axvline(ci_upper, color='green', linestyle='dashed', linewidth=2, label=f'95% CI Upper: ${ci_upper:,.2f}')\n",
    "plt.title(f'House Profit Distribution Over {num_games} Games ({num_players} Player(s), ${bet_size} Bet)')\n",
    "plt.xlabel('House Profit')\n",
    "plt.ylabel('Frequency')\n",
    "plt.legend()\n",
    "plt.show()\n",
    "\n",
    "# Print results\n",
    "print(f\"Expected House Profit: ${mean_house_profit:,.2f}\")\n",
    "print(f\"95% Confidence Interval: (${ci_lower:,.2f}, ${ci_upper:,.2f})\")\n"
   ]
  },
  {
   "cell_type": "code",
   "execution_count": null,
   "metadata": {},
   "outputs": [],
   "source": [
    "import numpy as np\n",
    "\n",
    "# Example: house_wins is an array of house profit per round from your simulation.\n",
    "# For illustration, let's assume you already simulated these values.\n",
    "# house_wins = np.array([...])\n",
    "house_wins = np.array(rounds)\n",
    "n = len(house_wins)\n",
    "sample_mean = np.mean(house_wins)\n",
    "sample_std = np.std(house_wins, ddof=1)\n"
   ]
  },
  {
   "cell_type": "code",
   "execution_count": null,
   "metadata": {},
   "outputs": [],
   "source": [
    "from scipy import stats\n",
    "\n",
    "# Hypothesized mean (e.g., house edge is $2.50 per round)\n",
    "mu0 = 0.41349 * 1\n",
    "\n",
    "# Calculate the t statistic\n",
    "t_statistic = (sample_mean - mu0) / (sample_std / np.sqrt(n))\n",
    "\n",
    "# Degrees of freedom is n-1\n",
    "df = n - 1\n",
    "\n",
    "# Two-tailed p-value\n",
    "p_value = 2 * (1 - stats.t.cdf(np.abs(t_statistic), df=df))\n",
    "\n",
    "print(f\"Sample Mean: {sample_mean:.4f}\")\n",
    "print(f\"t-statistic: {t_statistic:.4f}\")\n",
    "print(f\"p-value: {p_value:.4f}\")\n"
   ]
  }
 ],
 "metadata": {
  "kernelspec": {
   "display_name": "Python 3",
   "language": "python",
   "name": "python3"
  },
  "language_info": {
   "codemirror_mode": {
    "name": "ipython",
    "version": 3
   },
   "file_extension": ".py",
   "mimetype": "text/x-python",
   "name": "python",
   "nbconvert_exporter": "python",
   "pygments_lexer": "ipython3",
   "version": "3.13.3"
  }
 },
 "nbformat": 4,
 "nbformat_minor": 2
}
