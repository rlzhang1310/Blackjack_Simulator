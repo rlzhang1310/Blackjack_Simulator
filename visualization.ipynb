{
 "cells": [
  {
   "cell_type": "code",
   "execution_count": 2,
   "metadata": {},
   "outputs": [],
   "source": [
    "from deck import BlackjackShoe\n",
    "from dealer import Dealer\n",
    "from round import BlackjackRound\n",
    "from hand import Hand\n",
    "from game import Game, BLACKJACKSIXTOFIVEPAYOUT, BLACKJACKTHREETOTWOPAYOUT\n",
    "from strategies.strategy import StrategyTable\n",
    "import seaborn as sns\n",
    "import numpy as np\n",
    "import matplotlib.pyplot as plt\n"
   ]
  },
  {
   "cell_type": "code",
   "execution_count": null,
   "metadata": {},
   "outputs": [
    {
     "ename": "AttributeError",
     "evalue": "module 'numpy' has no attribute 'zeroes'",
     "output_type": "error",
     "traceback": [
      "\u001b[1;31m---------------------------------------------------------------------------\u001b[0m",
      "\u001b[1;31mAttributeError\u001b[0m                            Traceback (most recent call last)",
      "Cell \u001b[1;32mIn[3], line 7\u001b[0m\n\u001b[0;32m      5\u001b[0m bet_size \u001b[38;5;241m=\u001b[39m \u001b[38;5;241m10\u001b[39m\n\u001b[0;32m      6\u001b[0m num_rounds \u001b[38;5;241m=\u001b[39m \u001b[38;5;241m10000000\u001b[39m\n\u001b[1;32m----> 7\u001b[0m win_count_matrix \u001b[38;5;241m=\u001b[39m \u001b[43mnp\u001b[49m\u001b[38;5;241;43m.\u001b[39;49m\u001b[43mzeroes\u001b[49m(\u001b[38;5;241m10\u001b[39m, \u001b[38;5;241m35\u001b[39m)\n\u001b[0;32m      8\u001b[0m profit_count_matrix \u001b[38;5;241m=\u001b[39m np\u001b[38;5;241m.\u001b[39mzeroes(\u001b[38;5;241m10\u001b[39m, \u001b[38;5;241m35\u001b[39m)\n\u001b[0;32m      9\u001b[0m total_count_matrix \u001b[38;5;241m=\u001b[39m np\u001b[38;5;241m.\u001b[39mzeroes(\u001b[38;5;241m10\u001b[39m, \u001b[38;5;241m35\u001b[39m)\n",
      "File \u001b[1;32m~\\AppData\\Local\\Packages\\PythonSoftwareFoundation.Python.3.13_qbz5n2kfra8p0\\LocalCache\\local-packages\\Python313\\site-packages\\numpy\\__init__.py:427\u001b[0m, in \u001b[0;36m__getattr__\u001b[1;34m(attr)\u001b[0m\n\u001b[0;32m    424\u001b[0m     \u001b[38;5;28;01mimport\u001b[39;00m\u001b[38;5;250m \u001b[39m\u001b[38;5;21;01mnumpy\u001b[39;00m\u001b[38;5;21;01m.\u001b[39;00m\u001b[38;5;21;01mchar\u001b[39;00m\u001b[38;5;250m \u001b[39m\u001b[38;5;28;01mas\u001b[39;00m\u001b[38;5;250m \u001b[39m\u001b[38;5;21;01mchar\u001b[39;00m\n\u001b[0;32m    425\u001b[0m     \u001b[38;5;28;01mreturn\u001b[39;00m char\u001b[38;5;241m.\u001b[39mchararray\n\u001b[1;32m--> 427\u001b[0m \u001b[38;5;28;01mraise\u001b[39;00m \u001b[38;5;167;01mAttributeError\u001b[39;00m(\u001b[38;5;124m\"\u001b[39m\u001b[38;5;124mmodule \u001b[39m\u001b[38;5;132;01m{!r}\u001b[39;00m\u001b[38;5;124m has no attribute \u001b[39m\u001b[38;5;124m\"\u001b[39m\n\u001b[0;32m    428\u001b[0m                      \u001b[38;5;124m\"\u001b[39m\u001b[38;5;132;01m{!r}\u001b[39;00m\u001b[38;5;124m\"\u001b[39m\u001b[38;5;241m.\u001b[39mformat(\u001b[38;5;18m__name__\u001b[39m, attr))\n",
      "\u001b[1;31mAttributeError\u001b[0m: module 'numpy' has no attribute 'zeroes'"
     ]
    }
   ],
   "source": [
    "rounds = []\n",
    "games = []\n",
    "num_players = 1\n",
    "num_games = 1\n",
    "bet_size = 10\n",
    "num_rounds = 10000000\n",
    "win_count_matrix = np.zeros(10, 35)\n",
    "profit_count_matrix = np.zeros(10, 35)\n",
    "total_count_matrix = np.zeros(10, 35)\n",
    "for _ in range(num_games):\n",
    "    game = Game(num_decks=8, num_players=num_players, strategy=StrategyTable[\"MULTIDECK\"], hit_on_soft_17=True, blackjack_payout=BLACKJACKTHREETOTWOPAYOUT, min_bet=bet_size, denominations=100, player_bankroll=0, resplit_till=4)\n",
    "    for player in game.players:\n",
    "        player.ace_five_counting = True\n",
    "        player.high_low_counting = False\n",
    "    round_data = game.play(num_rounds, print_cards=False, print_round_results=False)\n",
    "    rounds.extend(round_data)\n",
    "    games.append(game.house_bankroll)\n",
    "    win_count_matrix += round.win_count_matrix\n",
    "    profit_count_matrix += round.profit_count_matrix\n",
    "    total_count_matrix += round.total_count_matrix\n",
    "\n",
    "\n",
    "win_percentage_matrix = np.divide(win_count_matrix, total_count_matrix, out=np.zeros_like(win_count_matrix), where=total_count_matrix)\n",
    "sum = 0\n",
    "wins = 0\n",
    "losses = 0\n",
    "pushes = 0\n",
    "for g in rounds:\n",
    "    if g > 0:\n",
    "        wins += 1\n",
    "    elif g < 0:\n",
    "        losses += 1\n",
    "    else:\n",
    "        pushes += 1\n",
    "    sum += g\n",
    "print(sum)\n",
    "\n",
    "print(sum / num_players / num_games / num_rounds)\n",
    "print(f\"Wins: {wins / num_rounds}, Losses: {losses / num_rounds}, Pushes: {pushes / num_rounds}\")\n",
    "print()"
   ]
  }
 ],
 "metadata": {
  "kernelspec": {
   "display_name": "Python 3",
   "language": "python",
   "name": "python3"
  },
  "language_info": {
   "codemirror_mode": {
    "name": "ipython",
    "version": 3
   },
   "file_extension": ".py",
   "mimetype": "text/x-python",
   "name": "python",
   "nbconvert_exporter": "python",
   "pygments_lexer": "ipython3",
   "version": "3.13.2"
  }
 },
 "nbformat": 4,
 "nbformat_minor": 2
}
